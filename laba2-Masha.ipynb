{
 "cells": [
  {
   "cell_type": "markdown",
   "metadata": {},
   "source": [
    "# Домашняя работа №2 (Курс \"Advanced Python\")\n",
    "## ФИО:"
   ]
  },
  {
   "cell_type": "markdown",
   "metadata": {},
   "source": [
    "**Тема:** Github, lambdas, collections  \n",
    "**Выдана:** 12 сентября  \n",
    "**Мягкий дедлайн:** 19 сентября   \n",
    "**Жесткий дедлайн:** 26 сентября   "
   ]
  },
  {
   "cell_type": "markdown",
   "metadata": {},
   "source": [
    "**Правила:**\n",
    "Результат выполнения задания - отчет в формате Jupyter Notebook с кодом и выводами. В ходе выполнения задания требуется реализовать все необходимые алгоритмы, провести эксперименты и ответить на поставленные вопросы. Дополнительные выводы приветствуются. Чем меньше кода и больше комментариев - тем лучше.\n",
    "\n",
    "Все ячейки должны быть \"выполненными\", при этом результат должен воспроизвдиться при проверке.\n",
    "\n",
    "Задание выполняется самостоятельно. **Если вы нашли в Интернете какой-то код, который собираетесь заимствовать, обязательно укажите это в задании.** Если вы советовались с товарищем и/или позаимствовали его решение, обязательно укажите об этом в отчете. Нет ничего плохого в том, что вы пытаетесь разобраться и помогаете друг другу; плохо - когда вы скрываете это и выдаете чужие заслуги за свои. При обнаружении списывания ВСЕМ студентам, имеющим одинаковые списанные решения будет выставлен ОТРИЦАТЕЛЬНЫЙ балл (т.е если задача стоит 4 балла, вы получите не 0, а -4), \"оригинал\" искаться не будет\n",
    "\n",
    "Задание, сданное после жесткого дедлайна, не принимается."
   ]
  },
  {
   "cell_type": "markdown",
   "metadata": {},
   "source": [
    "### Задание 0:\n",
    "Внимательно прочитайте материалы с http://cs.mipt.ru/advanced_python/lessons/lab2.html, которые я не стал рассказывать на семинаре. Задания в конце страницы выполнять не нужно"
   ]
  },
  {
   "cell_type": "markdown",
   "metadata": {},
   "source": [
    "### Упражнение 1: \n",
    "Для тренировки самостоятельно выполните упражнения, которые мы не успели разобрать на семинаре (в разделе Материалы на Anytaskе)"
   ]
  },
  {
   "cell_type": "markdown",
   "metadata": {},
   "source": [
    "### Задание 1: создание своего профиля на Github (3 балла)\n",
    "* Создайте свой профиль на github.  \n",
    "* Склонируйте репозиторий https://github.com/mohamedattahri/rst в свой репозиторий под именем Clonned  \n",
    "* Создайте свой репозиторий под любым названием.   \n",
    "* Загрузите в репозиторий пустой, свежесозданный jupyter notebook с именем \"classwork2.ipynb\"  \n",
    "* В своем репозитории добавьте еще одну ветку, помимо master.  \n",
    "* В новую ветку в свой репозиторий загрузите текстовый файл вида \"Your_last_name.txt\", в котором записано ваше имя (например, файл \"Plyusnin.txt\" с содержимым \"Павел\")  \n",
    "* В новой ветке обновите jupyter notebook \"classwork2.ipynb\", добавив в него решения к задачам из упражнения выше. Если вы решили все же не делать упражнения, то просто внесите хоть какие-то изменения в notebook и  загрузите его  \n",
    "* Слейте свежесозданную ветку с веткой master."
   ]
  },
  {
   "cell_type": "code",
   "execution_count": 2,
   "metadata": {
    "collapsed": true
   },
   "outputs": [],
   "source": [
    "### укажите ссылку на ваш репозиторий и на склоннированный Clonned https://github.com/WhiteKnight999/Clonned\n",
    "https://github.com/WhiteKnight999/anyname \n",
    "https://github.com/WhiteKnight999/Clonned"
   ]
  },
  {
   "cell_type": "markdown",
   "metadata": {
    "collapsed": true
   },
   "source": [
    "### Задание 2: (1 балл)\n",
    "Пользуясь только функцией sorted, в одну строку, найдите 5 ключей с самыми высокими значениями в словаре dictionary:"
   ]
  },
  {
   "cell_type": "code",
   "execution_count": null,
   "metadata": {
    "scrolled": true
   },
   "outputs": [],
   "source": [
    "import numpy as np\n",
    "import random\n",
    "dictionary = {numb: random.randn() for numb in range(10000)}\n",
    "print(' ,'.join(list(map(str, ([i[1] for i in sorted(dictionary.items(), key=lambda numb: numb[1], reverse = True)][:5])))))\n"
   ]
  },
  {
   "cell_type": "markdown",
   "metadata": {},
   "source": [
    "### Задание 3: (1 балл)\n",
    "Используя zip, напишите функцию print_pascal(n), которая выводит первые n строк треугольника Паскаля.  \n",
    "**Подсказка:** Треугольник Паскаля выглядит следующим образом: его первая строка состоит только из единицы. N-ая строка по размерности на 2 большей N-1 строки. Каждый элемент N строки получается из суммы двух соответствующих элементов над ним (для двух крайних чисел можно считать, что N-1 строка на самом деле имеет ту же размерность, что и N, просто самым левым и самым правым элементом являются 0)"
   ]
  },
  {
   "cell_type": "code",
   "execution_count": null,
   "metadata": {},
   "outputs": [],
   "source": [
    "def Pascal_triangle(n):\n",
    "    stroka = [0,1,0]\n",
    "    for i in range(n):\n",
    "        print(stroka[1:-1])\n",
    "        stroka = [0] + [i+t for i,t in zip(stroka ,stroka[1:] + [0])]\n",
    "    return\n",
    "\n",
    "print_pascal(10) "
   ]
  },
  {
   "cell_type": "markdown",
   "metadata": {},
   "source": [
    "### Задание 4: (1 балл)\n",
    "Напишите в одну строчку функцию, которая складывает цифры натурального числа"
   ]
  },
  {
   "cell_type": "code",
   "execution_count": 13,
   "metadata": {},
   "outputs": [],
   "source": [
    "def nat_sum(n):\n",
    "    return(sum(list(map(int, [str(n)[x] for x in range(len(str(n)))]))))"
   ]
  },
  {
   "cell_type": "markdown",
   "metadata": {},
   "source": [
    "### Задание 5: (1 балл)\n",
    "Напишите функцию, которая принимает текст и выводит два числа: самое длинное слово, и наиболее часто встречающееся. \n",
    "Вспомните, что мы проходили на семинаре ;)"
   ]
  },
  {
   "cell_type": "code",
   "execution_count": 16,
   "metadata": {},
   "outputs": [],
   "source": [
    "from collections import Counter\n",
    "def funct(text):\n",
    "    slova = text.split()\n",
    "    the_most_popular = Counter(words).funct()[0][0]\n",
    "    The_longest = 0\n",
    "    One_the_longest = 0\n",
    "    for one, slovo in enumerate(clova):\n",
    "        if len(slove) > The_longest:\n",
    "            The_longest = len(slovo)\n",
    "            one_the_longest = one\n",
    "    return((words[one_the_longest], the_most_popular))"
   ]
  },
  {
   "cell_type": "markdown",
   "metadata": {},
   "source": [
    "### Задание 6: функция возвращает функции! (2 балла)\n",
    "\n",
    "Реализуйте функцию checker_mod(x, mod=0), возвращающую лямбда функцию от одного аргумента y, которая будет возвращать True, если остаток от деления y на x равен mod, и False иначе.\n",
    "\n",
    "Пример использования:\n",
    "```python3\n",
    "mod_2 = checker_mod(2)\n",
    "\n",
    "print(mod_2(3)) # False\n",
    "print(mod_2(4)) # True\n",
    "\n",
    "mod_2_1 = checker_mod(2, 1)\n",
    "print(mod_2_1(3)) # True\n",
    "```"
   ]
  },
  {
   "cell_type": "code",
   "execution_count": null,
   "metadata": {},
   "outputs": [],
   "source": [
    "def checker_mod(x, mod=0):\n",
    "    return(lambda y: y % x == mod )\n",
    "another_mod = checker_mod(2)\n",
    "\n",
    "print(another_mod(11)) # False\n",
    "print(another_mod(10)) # True\n",
    "\n",
    "new_another_mod = checker_mod(2, 1)\n",
    "print(mod_2_1(3)) # True"
   ]
  },
  {
   "cell_type": "code",
   "execution_count": null,
   "metadata": {},
   "outputs": [],
   "source": []
  },
  {
   "cell_type": "code",
   "execution_count": null,
   "metadata": {},
   "outputs": [],
   "source": []
  }
 ],
 "metadata": {
  "kernelspec": {
   "display_name": "Python 3",
   "language": "python",
   "name": "python3"
  },
  "language_info": {
   "codemirror_mode": {
    "name": "ipython",
    "version": 3
   },
   "file_extension": ".py",
   "mimetype": "text/x-python",
   "name": "python",
   "nbconvert_exporter": "python",
   "pygments_lexer": "ipython3",
   "version": "3.6.7"
  }
 },
 "nbformat": 4,
 "nbformat_minor": 1
}
